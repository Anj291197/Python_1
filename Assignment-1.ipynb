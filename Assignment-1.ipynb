{
 "cells": [
  {
   "cell_type": "code",
   "execution_count": 1,
   "id": "df359df9",
   "metadata": {},
   "outputs": [],
   "source": [
    "#WAP to take 10 number from a user and store them in a list"
   ]
  },
  {
   "cell_type": "code",
   "execution_count": 2,
   "id": "0982548e",
   "metadata": {},
   "outputs": [
    {
     "ename": "KeyboardInterrupt",
     "evalue": "Interrupted by user",
     "output_type": "error",
     "traceback": [
      "\u001b[1;31m---------------------------------------------------------------------------\u001b[0m",
      "\u001b[1;31mKeyboardInterrupt\u001b[0m                         Traceback (most recent call last)",
      "Input \u001b[1;32mIn [2]\u001b[0m, in \u001b[0;36m<cell line: 1>\u001b[1;34m()\u001b[0m\n\u001b[1;32m----> 1\u001b[0m n \u001b[38;5;241m=\u001b[39m \u001b[38;5;28mlist\u001b[39m(\u001b[38;5;28mmap\u001b[39m(\u001b[38;5;28mint\u001b[39m,\u001b[38;5;28;43minput\u001b[39;49m\u001b[43m(\u001b[49m\u001b[43m)\u001b[49m\u001b[38;5;241m.\u001b[39msplit()))\n\u001b[0;32m      2\u001b[0m \u001b[38;5;28mprint\u001b[39m(n)\n",
      "File \u001b[1;32m~\\anaconda3\\lib\\site-packages\\ipykernel\\kernelbase.py:1075\u001b[0m, in \u001b[0;36mKernel.raw_input\u001b[1;34m(self, prompt)\u001b[0m\n\u001b[0;32m   1071\u001b[0m \u001b[38;5;28;01mif\u001b[39;00m \u001b[38;5;129;01mnot\u001b[39;00m \u001b[38;5;28mself\u001b[39m\u001b[38;5;241m.\u001b[39m_allow_stdin:\n\u001b[0;32m   1072\u001b[0m     \u001b[38;5;28;01mraise\u001b[39;00m StdinNotImplementedError(\n\u001b[0;32m   1073\u001b[0m         \u001b[38;5;124m\"\u001b[39m\u001b[38;5;124mraw_input was called, but this frontend does not support input requests.\u001b[39m\u001b[38;5;124m\"\u001b[39m\n\u001b[0;32m   1074\u001b[0m     )\n\u001b[1;32m-> 1075\u001b[0m \u001b[38;5;28;01mreturn\u001b[39;00m \u001b[38;5;28;43mself\u001b[39;49m\u001b[38;5;241;43m.\u001b[39;49m\u001b[43m_input_request\u001b[49m\u001b[43m(\u001b[49m\n\u001b[0;32m   1076\u001b[0m \u001b[43m    \u001b[49m\u001b[38;5;28;43mstr\u001b[39;49m\u001b[43m(\u001b[49m\u001b[43mprompt\u001b[49m\u001b[43m)\u001b[49m\u001b[43m,\u001b[49m\n\u001b[0;32m   1077\u001b[0m \u001b[43m    \u001b[49m\u001b[38;5;28;43mself\u001b[39;49m\u001b[38;5;241;43m.\u001b[39;49m\u001b[43m_parent_ident\u001b[49m\u001b[43m[\u001b[49m\u001b[38;5;124;43m\"\u001b[39;49m\u001b[38;5;124;43mshell\u001b[39;49m\u001b[38;5;124;43m\"\u001b[39;49m\u001b[43m]\u001b[49m\u001b[43m,\u001b[49m\n\u001b[0;32m   1078\u001b[0m \u001b[43m    \u001b[49m\u001b[38;5;28;43mself\u001b[39;49m\u001b[38;5;241;43m.\u001b[39;49m\u001b[43mget_parent\u001b[49m\u001b[43m(\u001b[49m\u001b[38;5;124;43m\"\u001b[39;49m\u001b[38;5;124;43mshell\u001b[39;49m\u001b[38;5;124;43m\"\u001b[39;49m\u001b[43m)\u001b[49m\u001b[43m,\u001b[49m\n\u001b[0;32m   1079\u001b[0m \u001b[43m    \u001b[49m\u001b[43mpassword\u001b[49m\u001b[38;5;241;43m=\u001b[39;49m\u001b[38;5;28;43;01mFalse\u001b[39;49;00m\u001b[43m,\u001b[49m\n\u001b[0;32m   1080\u001b[0m \u001b[43m\u001b[49m\u001b[43m)\u001b[49m\n",
      "File \u001b[1;32m~\\anaconda3\\lib\\site-packages\\ipykernel\\kernelbase.py:1120\u001b[0m, in \u001b[0;36mKernel._input_request\u001b[1;34m(self, prompt, ident, parent, password)\u001b[0m\n\u001b[0;32m   1117\u001b[0m             \u001b[38;5;28;01mbreak\u001b[39;00m\n\u001b[0;32m   1118\u001b[0m \u001b[38;5;28;01mexcept\u001b[39;00m \u001b[38;5;167;01mKeyboardInterrupt\u001b[39;00m:\n\u001b[0;32m   1119\u001b[0m     \u001b[38;5;66;03m# re-raise KeyboardInterrupt, to truncate traceback\u001b[39;00m\n\u001b[1;32m-> 1120\u001b[0m     \u001b[38;5;28;01mraise\u001b[39;00m \u001b[38;5;167;01mKeyboardInterrupt\u001b[39;00m(\u001b[38;5;124m\"\u001b[39m\u001b[38;5;124mInterrupted by user\u001b[39m\u001b[38;5;124m\"\u001b[39m) \u001b[38;5;28;01mfrom\u001b[39;00m \u001b[38;5;28mNone\u001b[39m\n\u001b[0;32m   1121\u001b[0m \u001b[38;5;28;01mexcept\u001b[39;00m \u001b[38;5;167;01mException\u001b[39;00m:\n\u001b[0;32m   1122\u001b[0m     \u001b[38;5;28mself\u001b[39m\u001b[38;5;241m.\u001b[39mlog\u001b[38;5;241m.\u001b[39mwarning(\u001b[38;5;124m\"\u001b[39m\u001b[38;5;124mInvalid Message:\u001b[39m\u001b[38;5;124m\"\u001b[39m, exc_info\u001b[38;5;241m=\u001b[39m\u001b[38;5;28;01mTrue\u001b[39;00m)\n",
      "\u001b[1;31mKeyboardInterrupt\u001b[0m: Interrupted by user"
     ]
    }
   ],
   "source": [
    "n = list(map(int,input().split()))\n",
    "print(n)\n"
   ]
  },
  {
   "cell_type": "code",
   "execution_count": null,
   "id": "d8a52747",
   "metadata": {
    "scrolled": true
   },
   "outputs": [],
   "source": [
    "n = int(input(\"Enter the numbers: \"))\n",
    "l = [x for x in range(1, n+1)]\n",
    "print(l)\n",
    "    \n",
    "    "
   ]
  },
  {
   "cell_type": "code",
   "execution_count": null,
   "id": "498ac5ed",
   "metadata": {},
   "outputs": [],
   "source": [
    "n = int(input(\"Enter the number: \"))\n",
    "a = list(n)\n",
    "print(a)\n",
    "l = []\n",
    "for x in range(1, n+1):\n",
    "    a[x] = int(a[x])\n",
    "    l.append(a[x])\n",
    "print(l)\n"
   ]
  },
  {
   "cell_type": "code",
   "execution_count": null,
   "id": "1a8c9198",
   "metadata": {},
   "outputs": [],
   "source": [
    "#Display the number divisible by 5"
   ]
  },
  {
   "cell_type": "code",
   "execution_count": null,
   "id": "5e5c6f31",
   "metadata": {},
   "outputs": [],
   "source": [
    "n = 10\n",
    "l = []\n",
    "for x in range(1, n+1):\n",
    "    if x%5 == 0:\n",
    "        l.append(x)\n",
    "print(l)\n",
    "        "
   ]
  },
  {
   "cell_type": "code",
   "execution_count": null,
   "id": "5d523c47",
   "metadata": {},
   "outputs": [],
   "source": [
    "a =  int(\"Enter the string: \")\n"
   ]
  },
  {
   "cell_type": "code",
   "execution_count": null,
   "id": "bdf6ea52",
   "metadata": {},
   "outputs": [],
   "source": [
    "n =10\n",
    "l = []\n",
    "for x in range(1, n+1):\n",
    "    if x%2 == 0:\n",
    "        l.append(x**2)\n",
    "print(l)"
   ]
  },
  {
   "cell_type": "code",
   "execution_count": null,
   "id": "b9f7689a",
   "metadata": {},
   "outputs": [],
   "source": [
    "a = int(input(\"Enter the number:\"))\n",
    "arr = []\n",
    "l = []\n",
    "for x in range(0,a):\n",
    "    arr[x] = x\n",
    "    l.append(arr[x])\n",
    "print(l)"
   ]
  },
  {
   "cell_type": "code",
   "execution_count": null,
   "id": "4a81034d",
   "metadata": {},
   "outputs": [],
   "source": [
    "x=int(input())\n",
    "a=[]\n",
    "for i in range(0,x+1):\n",
    "        arr[i]=i\n",
    "        a.append(arr[i])\n",
    "    \n",
    "print(a)"
   ]
  },
  {
   "cell_type": "code",
   "execution_count": null,
   "id": "e2ce3d70",
   "metadata": {},
   "outputs": [],
   "source": [
    "n = 10\n",
    "a = [x%5==0 for x in range(1, n+1)]\n",
    "print(a)"
   ]
  },
  {
   "cell_type": "code",
   "execution_count": null,
   "id": "51e5675c",
   "metadata": {},
   "outputs": [],
   "source": [
    "n =10\n",
    "l = []\n",
    "for x in range(1, n+1):\n",
    "    if x%5 == 0:\n",
    "        l.append(x)\n",
    "print(l)"
   ]
  },
  {
   "cell_type": "code",
   "execution_count": null,
   "id": "7247ce85",
   "metadata": {},
   "outputs": [],
   "source": [
    "n =\"HI Anjali\"\n",
    "x = 0\n",
    "y = 1\n",
    "def count(n):\n",
    "    state = x\n",
    "    count = 0\n",
    "    for x in range(n):\n",
    "        if (n == \" \" or n == \"\\n\" or n == \"\\t\"):\n",
    "            state = x\n",
    "        elif state == x:\n",
    "            state = y\n",
    "            count+=1\n",
    "    return count\n",
    "print(\"No. of words :  \" + str(count(n)))"
   ]
  },
  {
   "cell_type": "code",
   "execution_count": null,
   "id": "375e1d11",
   "metadata": {},
   "outputs": [],
   "source": [
    "x = \"Hi Anj ali\"\n",
    "count=1 \n",
    "for i in range(0, len(x)):\n",
    "    print(x.count(\" \"))\n",
    "    if x.count(\" \")==True:\n",
    "        w=x.count(\" \")+1\n",
    "                \n",
    "print(w)"
   ]
  },
  {
   "cell_type": "code",
   "execution_count": null,
   "id": "c3320135",
   "metadata": {},
   "outputs": [],
   "source": [
    "#Count elements in string\n",
    "count = len(\"HI Anjali\".split())\n",
    "print(count)\n"
   ]
  },
  {
   "cell_type": "code",
   "execution_count": null,
   "id": "3da0e053",
   "metadata": {},
   "outputs": [],
   "source": [
    "n = int(input(\"Ente the number: \"))\n",
    "if n%2==0:\n",
    "    print(\"Even\")\n",
    "else:\n",
    "    print(\"Odd\")"
   ]
  },
  {
   "cell_type": "code",
   "execution_count": null,
   "id": "df222b5a",
   "metadata": {},
   "outputs": [],
   "source": [
    "n = input(\"Enter the string: \")\n",
    "a = reversed(n)\n",
    "print(\"\".join(a))\n",
    "    "
   ]
  },
  {
   "cell_type": "code",
   "execution_count": null,
   "id": "94bfe25f",
   "metadata": {},
   "outputs": [],
   "source": [
    "\n",
    "n = input(\"Enter the string: \")\n",
    "a = reversed(n)\n",
    "b = \"\".join(a)\n",
    "\n",
    "l = []\n",
    "for x in b:\n",
    "    if x == \" \":\n",
    "        continue\n",
    "        \n",
    "    l.append(x)\n",
    "print(l)\n"
   ]
  },
  {
   "cell_type": "code",
   "execution_count": null,
   "id": "780f3faa",
   "metadata": {},
   "outputs": [],
   "source": [
    "\n",
    "        "
   ]
  },
  {
   "cell_type": "code",
   "execution_count": null,
   "id": "d77134ae",
   "metadata": {},
   "outputs": [],
   "source": [
    "n = input()\n",
    "for x in range(len(n)):\n",
    "    if x%2==0:\n",
    "        if x == \" \":\n",
    "            continue\n",
    "        print(n[x])\n",
    "print()"
   ]
  },
  {
   "cell_type": "code",
   "execution_count": null,
   "id": "2aedbea3",
   "metadata": {},
   "outputs": [],
   "source": [
    "n =\"Hi Anjali\"\n",
    "n[0]\n"
   ]
  },
  {
   "cell_type": "code",
   "execution_count": null,
   "id": "b96ecd83",
   "metadata": {},
   "outputs": [],
   "source": [
    "n[2]"
   ]
  },
  {
   "cell_type": "code",
   "execution_count": null,
   "id": "06ef0d8d",
   "metadata": {},
   "outputs": [],
   "source": [
    "l = []\n",
    "n = int(input(\"Enter number of elements: \"))\n",
    "for i in range(0,n):\n",
    "    ele = int(input())\n",
    "    l.append(ele)\n",
    "print(l)\n",
    "if n[0] == n[-1]:\n",
    "    print(\"Same\")\n",
    "else:\n",
    "    print(\"Not Same\")"
   ]
  },
  {
   "cell_type": "code",
   "execution_count": null,
   "id": "badcf5c8",
   "metadata": {},
   "outputs": [],
   "source": [
    "# creating an empty list\n",
    "lst = []\n",
    "  \n",
    "# number of elements as input\n",
    "n = int(input(\"Enter number of elements : \"))\n",
    "  \n",
    "# iterating till the range\n",
    "for i in range(0, n):\n",
    "    ele = int(input())\n",
    "  \n",
    "    lst.append(ele) # adding the element\n",
    "      \n",
    "print(lst)"
   ]
  },
  {
   "cell_type": "code",
   "execution_count": null,
   "id": "cd8ce5f3",
   "metadata": {},
   "outputs": [],
   "source": [
    "\n",
    "# number of elements\n",
    "n = int(input(\"Enter number of elements : \"))\n",
    "  \n",
    "# Below line read inputs from user using map() function \n",
    "a = list(map(int,input(\"\\nEnter the numbers : \").strip().split()))[:n]\n",
    "  \n",
    "print(\"\\nList is - \", a)"
   ]
  },
  {
   "cell_type": "code",
   "execution_count": null,
   "id": "0142dcde",
   "metadata": {},
   "outputs": [],
   "source": [
    "n = input(\"Enter the sting: \")\n",
    "l = [\"a\", \"e\", \"i,\" \"o\", \"u\", \"A\", \"E\", \"I\", \"O\", \"U\"]\n",
    "for x in n:\n",
    "    if n[0] == l:\n",
    "        print(\"Vowel\")\n",
    "    else:\n",
    "        print(\"Not a Vowel\")\n",
    "    break\n"
   ]
  },
  {
   "cell_type": "code",
   "execution_count": null,
   "id": "90d947b1",
   "metadata": {},
   "outputs": [],
   "source": [
    "n = input(\"Enter a string: \")\n",
    "a = n[0]\n",
    "for x in n:\n",
    "    if (a==\"a\" or a == \"e\" or a == \"i\" or a == \"o\" or a == \"u\"):\n",
    "        print(\"Vowel\")\n",
    "    else:\n",
    "        print(\"Not a Vowel\")\n",
    "    break"
   ]
  },
  {
   "cell_type": "code",
   "execution_count": null,
   "id": "8fb01f76",
   "metadata": {},
   "outputs": [],
   "source": [
    "import re\n",
    "a = \"^[aeiouAEIOU][A-Za-z0-9_]*\"\n",
    "\n",
    "n = input(\"Enter a string: \")\n",
    "def check(n):\n",
    "    \n",
    "    if(re.search(a, n)):\n",
    "        print(\"Valid\")\n",
    "    else:\n",
    "        print(\"Not Valid\")\n",
    "        \n",
    "if __name__ == \"__main__\":\n",
    "    \n",
    "    check(n)"
   ]
  },
  {
   "cell_type": "code",
   "execution_count": null,
   "id": "85a491c0",
   "metadata": {},
   "outputs": [],
   "source": [
    "n = \"Hi Anjali\"\n",
    "l = [\"a\", \"e\", \"i,\" \"o\", \"u\", \"A\", \"E\", \"I\", \"O\", \"U\"]\n",
    "\n",
    "def check(n):\n",
    "    for x in n:\n",
    "        if x in l:\n",
    "            print(\"Valid\")\n",
    "        else:\n",
    "            print(\"Not Valid\")\n",
    "    check(n)"
   ]
  },
  {
   "cell_type": "code",
   "execution_count": 3,
   "id": "65377c44",
   "metadata": {},
   "outputs": [],
   "source": [
    "n = \"Hi Anjali\"\n",
    "l = [\"a\", \"e\", \"i,\" \"o\", \"u\", \"A\", \"E\", \"I\", \"O\", \"U\"]\n",
    "\n",
    "def check(n):\n",
    "    for x in n:\n",
    "        if x in l:\n",
    "            print(\"Valid\")\n",
    "        else:\n",
    "            print(\"Not Valid\")\n",
    "    check(n)"
   ]
  },
  {
   "cell_type": "code",
   "execution_count": 6,
   "id": "facaab50",
   "metadata": {},
   "outputs": [
    {
     "name": "stdout",
     "output_type": "stream",
     "text": [
      "Enter th score: 15\n",
      "Enter th score: 20\n",
      "Enter th score: 12\n",
      "Enter th score: 14\n",
      "Enter th score: 13\n",
      "74.0\n"
     ]
    }
   ],
   "source": [
    "phy = int(input(\"Enter th score: \"))\n",
    "chem = int(input(\"Enter th score: \"))\n",
    "bio = int(input(\"Enter th score: \"))\n",
    "maths = int(input(\"Enter th score: \"))\n",
    "Evs = int(input(\"Enter th score: \"))\n",
    "total = phy + chem + bio + maths + Evs\n",
    "total_1 = total /100\n",
    "total_2 = total_1 * 100\n",
    "print(total_2)"
   ]
  },
  {
   "cell_type": "code",
   "execution_count": 9,
   "id": "175b48ff",
   "metadata": {},
   "outputs": [
    {
     "name": "stdout",
     "output_type": "stream",
     "text": [
      "Enter the value: 95.3\n",
      "95\n"
     ]
    }
   ],
   "source": [
    "a = float(input(\"Enter the value: \"))\n",
    "x = round(a)\n",
    "print(x)"
   ]
  },
  {
   "cell_type": "code",
   "execution_count": 14,
   "id": "4afc98ca",
   "metadata": {},
   "outputs": [
    {
     "name": "stdout",
     "output_type": "stream",
     "text": [
      "Enter a number: 10001000\n"
     ]
    },
    {
     "ename": "TypeError",
     "evalue": "'int' object is not iterable",
     "output_type": "error",
     "traceback": [
      "\u001b[1;31m---------------------------------------------------------------------------\u001b[0m",
      "\u001b[1;31mTypeError\u001b[0m                                 Traceback (most recent call last)",
      "Input \u001b[1;32mIn [14]\u001b[0m, in \u001b[0;36m<cell line: 3>\u001b[1;34m()\u001b[0m\n\u001b[0;32m      1\u001b[0m a \u001b[38;5;241m=\u001b[39m \u001b[38;5;28mint\u001b[39m(\u001b[38;5;28minput\u001b[39m(\u001b[38;5;124m\"\u001b[39m\u001b[38;5;124mEnter a number: \u001b[39m\u001b[38;5;124m\"\u001b[39m))\n\u001b[0;32m      2\u001b[0m count \u001b[38;5;241m=\u001b[39m \u001b[38;5;241m0\u001b[39m\n\u001b[1;32m----> 3\u001b[0m \u001b[38;5;28;01mfor\u001b[39;00m x \u001b[38;5;129;01min\u001b[39;00m a:\n\u001b[0;32m      4\u001b[0m     \u001b[38;5;28;01mif\u001b[39;00m x \u001b[38;5;241m==\u001b[39m \u001b[38;5;124m\"\u001b[39m\u001b[38;5;124m0\u001b[39m\u001b[38;5;124m\"\u001b[39m:\n\u001b[0;32m      5\u001b[0m         a\u001b[38;5;241m.\u001b[39mcount(x)\n",
      "\u001b[1;31mTypeError\u001b[0m: 'int' object is not iterable"
     ]
    }
   ],
   "source": [
    "a = int(input(\"Enter a number: \"))\n",
    "count = 0\n",
    "for x in a:\n",
    "    if x == \"0\":\n",
    "        a.count(x)\n",
    "    print(x)"
   ]
  },
  {
   "cell_type": "code",
   "execution_count": null,
   "id": "b6de636c",
   "metadata": {},
   "outputs": [],
   "source": []
  }
 ],
 "metadata": {
  "kernelspec": {
   "display_name": "Python 3 (ipykernel)",
   "language": "python",
   "name": "python3"
  },
  "language_info": {
   "codemirror_mode": {
    "name": "ipython",
    "version": 3
   },
   "file_extension": ".py",
   "mimetype": "text/x-python",
   "name": "python",
   "nbconvert_exporter": "python",
   "pygments_lexer": "ipython3",
   "version": "3.9.12"
  }
 },
 "nbformat": 4,
 "nbformat_minor": 5
}
